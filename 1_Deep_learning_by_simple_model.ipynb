{
  "nbformat": 4,
  "nbformat_minor": 0,
  "metadata": {
    "colab": {
      "name": "1. Deep learning by simple model.ipynb",
      "provenance": [],
      "collapsed_sections": [],
      "authorship_tag": "ABX9TyNsQW2j623ibvC62+oH29O/",
      "include_colab_link": true
    },
    "kernelspec": {
      "name": "python3",
      "display_name": "Python 3"
    },
    "accelerator": "GPU"
  },
  "cells": [
    {
      "cell_type": "markdown",
      "metadata": {
        "id": "view-in-github",
        "colab_type": "text"
      },
      "source": [
        "<a href=\"https://colab.research.google.com/github/farihane-redouan/CONVOLUTIONAL-NEURAL-NETWORK/blob/main/1_Deep_learning_by_simple_model.ipynb\" target=\"_parent\"><img src=\"https://colab.research.google.com/assets/colab-badge.svg\" alt=\"Open In Colab\"/></a>"
      ]
    },
    {
      "cell_type": "markdown",
      "metadata": {
        "id": "E0cBEj4MyT3t"
      },
      "source": [
        "**1. Etape1 : Charger et exploiter la base de données MNIST**\n",
        "\n"
      ]
    },
    {
      "cell_type": "code",
      "metadata": {
        "id": "6Xg_4byWtOPm"
      },
      "source": [
        "from keras.datasets import mnist\n",
        "(train_images, train_labels), (test_images, test_labels) = mnist.load_data()"
      ],
      "execution_count": null,
      "outputs": []
    },
    {
      "cell_type": "code",
      "metadata": {
        "colab": {
          "base_uri": "https://localhost:8080/"
        },
        "id": "U7QCp_2htoGm",
        "outputId": "f19eadcc-27b0-4873-dd89-85d3f99046c6"
      },
      "source": [
        "train_images.shape"
      ],
      "execution_count": null,
      "outputs": [
        {
          "output_type": "execute_result",
          "data": {
            "text/plain": [
              "(60000, 28, 28)"
            ]
          },
          "metadata": {
            "tags": []
          },
          "execution_count": 43
        }
      ]
    },
    {
      "cell_type": "code",
      "metadata": {
        "colab": {
          "base_uri": "https://localhost:8080/",
          "height": 282
        },
        "id": "7wgeqZ6Htsyv",
        "outputId": "9e2dc0b7-227b-4e7b-ebe8-bde21ecab875"
      },
      "source": [
        "from matplotlib import pyplot as plt\n",
        "plt.imshow(train_images[0])\n",
        "print(train_images[40700,20,20])"
      ],
      "execution_count": null,
      "outputs": [
        {
          "output_type": "stream",
          "text": [
            "0\n"
          ],
          "name": "stdout"
        },
        {
          "output_type": "display_data",
          "data": {
            "image/png": "[encoded data removed]",
            "text/plain": [
              "<Figure size 432x288 with 1 Axes>"
            ]
          },
          "metadata": {
            "tags": [],
            "needs_background": "light"
          }
        }
      ]
    },
    {
      "cell_type": "markdown",
      "metadata": {
        "id": "pR-tQta0udnV"
      },
      "source": [
        "**2. Prétraiter les données d'entrée pour Keras**"
      ]
    },
    {
      "cell_type": "code",
      "metadata": {
        "id": "_JiL-0bVt1Uw"
      },
      "source": [
        "X_train = train_images.reshape(train_images.shape[0], 28, 28,1)\n",
        "X_test = test_images.reshape(test_images.shape[0], 28, 28,1)"
      ],
      "execution_count": null,
      "outputs": []
    },
    {
      "cell_type": "code",
      "metadata": {
        "colab": {
          "base_uri": "https://localhost:8080/"
        },
        "id": "nPm60grpucOR",
        "outputId": "20b525d5-3f41-488b-fb3c-ef1b5f475a4d"
      },
      "source": [
        "print (X_train.shape)"
      ],
      "execution_count": null,
      "outputs": [
        {
          "output_type": "stream",
          "text": [
            "(60000, 28, 28, 1)\n"
          ],
          "name": "stdout"
        }
      ]
    },
    {
      "cell_type": "code",
      "metadata": {
        "id": "3bKI-nkbuo-X"
      },
      "source": [
        "X_train = X_train.astype('float32')\n",
        "X_test = X_test.astype('float32')\n",
        "X_train /= 255\n",
        "X_test /= 255"
      ],
      "execution_count": null,
      "outputs": []
    },
    {
      "cell_type": "markdown",
      "metadata": {
        "id": "c4oEHdIEuxz6"
      },
      "source": [
        "**3. Etape3 : Prétraiter les étiquettes de classe pour Keras**"
      ]
    },
    {
      "cell_type": "code",
      "metadata": {
        "colab": {
          "base_uri": "https://localhost:8080/"
        },
        "id": "_BLZwEjYuuc3",
        "outputId": "a781d9bf-daee-4ba0-d7c2-e397c5d79ae4"
      },
      "source": [
        "print (train_labels.shape)"
      ],
      "execution_count": null,
      "outputs": [
        {
          "output_type": "stream",
          "text": [
            "(60000,)\n"
          ],
          "name": "stdout"
        }
      ]
    },
    {
      "cell_type": "code",
      "metadata": {
        "colab": {
          "base_uri": "https://localhost:8080/"
        },
        "id": "94S0Px4mu52v",
        "outputId": "8f760b90-72cc-411b-c8d7-a0f7b290c84f"
      },
      "source": [
        "print(train_labels[:10])"
      ],
      "execution_count": null,
      "outputs": [
        {
          "output_type": "stream",
          "text": [
            "[5 0 4 1 9 2 1 3 1 4]\n"
          ],
          "name": "stdout"
        }
      ]
    },
    {
      "cell_type": "code",
      "metadata": {
        "id": "xFgaLp_8vBR2"
      },
      "source": [
        "# Convertir des tableaux de classes à une dimension en matrices de classes à 10 dimensions\n",
        "from keras.utils import np_utils\n",
        "Y_train = np_utils.to_categorical (train_labels, 10)\n",
        "Y_test = np_utils.to_categorical (test_labels, 10)"
      ],
      "execution_count": null,
      "outputs": []
    },
    {
      "cell_type": "code",
      "metadata": {
        "colab": {
          "base_uri": "https://localhost:8080/"
        },
        "id": "kzFxAaQWvIZB",
        "outputId": "4f15ddfe-93f3-44c1-a328-0d87597bb820"
      },
      "source": [
        "print (Y_train.shape)\n"
      ],
      "execution_count": null,
      "outputs": [
        {
          "output_type": "stream",
          "text": [
            "(60000, 10)\n"
          ],
          "name": "stdout"
        }
      ]
    },
    {
      "cell_type": "markdown",
      "metadata": {
        "id": "VjKb8UjrvVjm"
      },
      "source": [
        "**4. Etape4 : Définir l'architecture du modèle.**"
      ]
    },
    {
      "cell_type": "code",
      "metadata": {
        "id": "h4FO1jHRvPm3"
      },
      "source": [
        "from tensorflow.keras.models import Sequential\n",
        "from tensorflow.keras.layers import Dense ,Dropout ,BatchNormalization\n",
        "from tensorflow.keras.layers import Conv2D, MaxPooling2D, Flatten"
      ],
      "execution_count": null,
      "outputs": []
    },
    {
      "cell_type": "code",
      "metadata": {
        "id": "SYYLSDlkvc6R"
      },
      "source": [
        "model = Sequential()"
      ],
      "execution_count": null,
      "outputs": []
    },
    {
      "cell_type": "code",
      "metadata": {
        "id": "AiD2H-YJwlf4"
      },
      "source": [
        "model.add(Conv2D(64, (3, 3), strides=(1, 1), padding='same', activation='relu',\n",
        "input_shape=(28,28,1)))"
      ],
      "execution_count": null,
      "outputs": []
    },
    {
      "cell_type": "code",
      "metadata": {
        "id": "OFfLpsaUwoom"
      },
      "source": [
        "model.add(Conv2D(32, (3, 3),strides=(1, 1), padding='same', activation='relu'))\n",
        "model.add(MaxPooling2D(pool_size=(2,2)))\n",
        "model.add(Dropout(0.25))"
      ],
      "execution_count": null,
      "outputs": []
    },
    {
      "cell_type": "code",
      "metadata": {
        "id": "pnVX38_7wrI_"
      },
      "source": [
        "model.add(Flatten())\n",
        "model.add(Dense(128, activation='relu'))\n",
        "model.add(Dropout(0.5))\n",
        "model.add(Dense(10, activation='softmax'))"
      ],
      "execution_count": null,
      "outputs": []
    },
    {
      "cell_type": "markdown",
      "metadata": {
        "id": "l-ZnMUnQw7KG"
      },
      "source": [
        "**5. Etape 5 : Compiler le modèle CNN (fonction de perte+Optimiseur)**"
      ]
    },
    {
      "cell_type": "code",
      "metadata": {
        "id": "8_bH4BDqw3kx"
      },
      "source": [
        "model.compile(loss='categorical_crossentropy',optimizer='adam',metrics=['accuracy']\n",
        ")"
      ],
      "execution_count": null,
      "outputs": []
    },
    {
      "cell_type": "markdown",
      "metadata": {
        "id": "yoS1-wXjxEBH"
      },
      "source": [
        "**6. Etape 6 : Adapter le modèle aux données d'entraînement**"
      ]
    },
    {
      "cell_type": "code",
      "metadata": {
        "colab": {
          "base_uri": "https://localhost:8080/"
        },
        "id": "leuPgXzwxDA4",
        "outputId": "431391ef-c0af-493f-c2af-8b5a03e4ce91"
      },
      "source": [
        "history=model.fit(X_train, Y_train, validation_data=(X_test, Y_test),batch_size=32,  epochs=200, verbose=1)"
      ],
      "execution_count": null,
      "outputs": [
        {
          "output_type": "stream",
          "text": [
            "Epoch 1/200\n",
            "1875/1875 [==============================] - 7s 4ms/step - loss: 0.0132 - accuracy: 0.9969 - val_loss: 0.0517 - val_accuracy: 0.9935\n",
            "Epoch 2/200\n",
            "1875/1875 [==============================] - 7s 4ms/step - loss: 0.0143 - accuracy: 0.9970 - val_loss: 0.0640 - val_accuracy: 0.9933\n",
            "Epoch 3/200\n",
            "1875/1875 [==============================] - 7s 4ms/step - loss: 0.0118 - accuracy: 0.9977 - val_loss: 0.0681 - val_accuracy: 0.9925\n",
            "Epoch 4/200\n",
            "1875/1875 [==============================] - 7s 4ms/step - loss: 0.0105 - accuracy: 0.9973 - val_loss: 0.0879 - val_accuracy: 0.9928\n",
            "Epoch 5/200\n",
            "1875/1875 [==============================] - 7s 4ms/step - loss: 0.0135 - accuracy: 0.9969 - val_loss: 0.0672 - val_accuracy: 0.9937\n",
            "Epoch 6/200\n",
            "1875/1875 [==============================] - 7s 4ms/step - loss: 0.0105 - accuracy: 0.9975 - val_loss: 0.0674 - val_accuracy: 0.9931\n",
            "Epoch 7/200\n",
            "1875/1875 [==============================] - 7s 4ms/step - loss: 0.0136 - accuracy: 0.9970 - val_loss: 0.0659 - val_accuracy: 0.9913\n",
            "Epoch 8/200\n",
            "1875/1875 [==============================] - 7s 4ms/step - loss: 0.0121 - accuracy: 0.9968 - val_loss: 0.0475 - val_accuracy: 0.9926\n",
            "Epoch 9/200\n",
            "1875/1875 [==============================] - 7s 4ms/step - loss: 0.0119 - accuracy: 0.9973 - val_loss: 0.0668 - val_accuracy: 0.9924\n",
            "Epoch 10/200\n",
            "1875/1875 [==============================] - 7s 4ms/step - loss: 0.0130 - accuracy: 0.9972 - val_loss: 0.0864 - val_accuracy: 0.9925\n",
            "Epoch 11/200\n",
            "1875/1875 [==============================] - 7s 4ms/step - loss: 0.0208 - accuracy: 0.9963 - val_loss: 0.0833 - val_accuracy: 0.9921\n",
            "Epoch 12/200\n",
            "1875/1875 [==============================] - 7s 4ms/step - loss: 0.0216 - accuracy: 0.9953 - val_loss: 0.0563 - val_accuracy: 0.9927\n",
            "Epoch 13/200\n",
            "1875/1875 [==============================] - 7s 4ms/step - loss: 0.0138 - accuracy: 0.9969 - val_loss: 0.0677 - val_accuracy: 0.9934\n",
            "Epoch 14/200\n",
            "1875/1875 [==============================] - 7s 4ms/step - loss: 0.0136 - accuracy: 0.9968 - val_loss: 0.0811 - val_accuracy: 0.9934\n",
            "Epoch 15/200\n",
            "1875/1875 [==============================] - 7s 4ms/step - loss: 0.0141 - accuracy: 0.9971 - val_loss: 0.0518 - val_accuracy: 0.9923\n",
            "Epoch 16/200\n",
            "1875/1875 [==============================] - 7s 4ms/step - loss: 0.0128 - accuracy: 0.9973 - val_loss: 0.0612 - val_accuracy: 0.9926\n",
            "Epoch 17/200\n",
            "1875/1875 [==============================] - 7s 4ms/step - loss: 0.0152 - accuracy: 0.9963 - val_loss: 0.0429 - val_accuracy: 0.9927\n",
            "Epoch 18/200\n",
            "1875/1875 [==============================] - 7s 4ms/step - loss: 0.0133 - accuracy: 0.9970 - val_loss: 0.0779 - val_accuracy: 0.9928\n",
            "Epoch 19/200\n",
            "1875/1875 [==============================] - 7s 4ms/step - loss: 0.0129 - accuracy: 0.9972 - val_loss: 0.0682 - val_accuracy: 0.9926\n",
            "Epoch 20/200\n",
            "1875/1875 [==============================] - 7s 4ms/step - loss: 0.0123 - accuracy: 0.9973 - val_loss: 0.0873 - val_accuracy: 0.9922\n",
            "Epoch 21/200\n",
            "1875/1875 [==============================] - 7s 4ms/step - loss: 0.0127 - accuracy: 0.9970 - val_loss: 0.0682 - val_accuracy: 0.9926\n",
            "Epoch 22/200\n",
            "1875/1875 [==============================] - 7s 4ms/step - loss: 0.0133 - accuracy: 0.9970 - val_loss: 0.0629 - val_accuracy: 0.9931\n",
            "Epoch 23/200\n",
            "1875/1875 [==============================] - 7s 4ms/step - loss: 0.0130 - accuracy: 0.9972 - val_loss: 0.0676 - val_accuracy: 0.9930\n",
            "Epoch 24/200\n",
            "1875/1875 [==============================] - 7s 4ms/step - loss: 0.0115 - accuracy: 0.9969 - val_loss: 0.0881 - val_accuracy: 0.9927\n",
            "Epoch 25/200\n",
            "1875/1875 [==============================] - 7s 4ms/step - loss: 0.0125 - accuracy: 0.9971 - val_loss: 0.0629 - val_accuracy: 0.9933\n",
            "Epoch 26/200\n",
            "1875/1875 [==============================] - 7s 4ms/step - loss: 0.0103 - accuracy: 0.9976 - val_loss: 0.0547 - val_accuracy: 0.9930\n",
            "Epoch 27/200\n",
            "1875/1875 [==============================] - 7s 4ms/step - loss: 0.0139 - accuracy: 0.9972 - val_loss: 0.0769 - val_accuracy: 0.9934\n",
            "Epoch 28/200\n",
            "1875/1875 [==============================] - 7s 4ms/step - loss: 0.0125 - accuracy: 0.9971 - val_loss: 0.0691 - val_accuracy: 0.9934\n",
            "Epoch 29/200\n",
            "1875/1875 [==============================] - 7s 4ms/step - loss: 0.0128 - accuracy: 0.9971 - val_loss: 0.0780 - val_accuracy: 0.9929\n",
            "Epoch 30/200\n",
            "1875/1875 [==============================] - 7s 4ms/step - loss: 0.0148 - accuracy: 0.9969 - val_loss: 0.0763 - val_accuracy: 0.9936\n",
            "Epoch 31/200\n",
            "1875/1875 [==============================] - 7s 4ms/step - loss: 0.0108 - accuracy: 0.9976 - val_loss: 0.0691 - val_accuracy: 0.9933\n",
            "Epoch 32/200\n",
            "1875/1875 [==============================] - 7s 4ms/step - loss: 0.0171 - accuracy: 0.9965 - val_loss: 0.0715 - val_accuracy: 0.9933\n",
            "Epoch 33/200\n",
            "1875/1875 [==============================] - 7s 4ms/step - loss: 0.0126 - accuracy: 0.9974 - val_loss: 0.0760 - val_accuracy: 0.9932\n",
            "Epoch 34/200\n",
            "1875/1875 [==============================] - 7s 4ms/step - loss: 0.0104 - accuracy: 0.9976 - val_loss: 0.0638 - val_accuracy: 0.9936\n",
            "Epoch 35/200\n",
            "1875/1875 [==============================] - 7s 4ms/step - loss: 0.0110 - accuracy: 0.9973 - val_loss: 0.0638 - val_accuracy: 0.9920\n",
            "Epoch 36/200\n",
            "1875/1875 [==============================] - 7s 4ms/step - loss: 0.0131 - accuracy: 0.9969 - val_loss: 0.0574 - val_accuracy: 0.9933\n",
            "Epoch 37/200\n",
            "1875/1875 [==============================] - 7s 4ms/step - loss: 0.0143 - accuracy: 0.9965 - val_loss: 0.0754 - val_accuracy: 0.9936\n",
            "Epoch 38/200\n",
            "1875/1875 [==============================] - 7s 4ms/step - loss: 0.0138 - accuracy: 0.9969 - val_loss: 0.0650 - val_accuracy: 0.9927\n",
            "Epoch 39/200\n",
            "1875/1875 [==============================] - 7s 4ms/step - loss: 0.0138 - accuracy: 0.9967 - val_loss: 0.0526 - val_accuracy: 0.9932\n",
            "Epoch 40/200\n",
            "1875/1875 [==============================] - 7s 4ms/step - loss: 0.0128 - accuracy: 0.9971 - val_loss: 0.0487 - val_accuracy: 0.9927\n",
            "Epoch 41/200\n",
            "1875/1875 [==============================] - 7s 4ms/step - loss: 0.0101 - accuracy: 0.9977 - val_loss: 0.0867 - val_accuracy: 0.9931\n",
            "Epoch 42/200\n",
            "1875/1875 [==============================] - 7s 4ms/step - loss: 0.0132 - accuracy: 0.9973 - val_loss: 0.0816 - val_accuracy: 0.9928\n",
            "Epoch 43/200\n",
            "1875/1875 [==============================] - 7s 4ms/step - loss: 0.0125 - accuracy: 0.9967 - val_loss: 0.0605 - val_accuracy: 0.9921\n",
            "Epoch 44/200\n",
            "1875/1875 [==============================] - 7s 4ms/step - loss: 0.0166 - accuracy: 0.9963 - val_loss: 0.0806 - val_accuracy: 0.9929\n",
            "Epoch 45/200\n",
            "1875/1875 [==============================] - 7s 4ms/step - loss: 0.0113 - accuracy: 0.9973 - val_loss: 0.0557 - val_accuracy: 0.9936\n",
            "Epoch 46/200\n",
            "1875/1875 [==============================] - 7s 4ms/step - loss: 0.0095 - accuracy: 0.9976 - val_loss: 0.0539 - val_accuracy: 0.9938\n",
            "Epoch 47/200\n",
            "1875/1875 [==============================] - 7s 4ms/step - loss: 0.0144 - accuracy: 0.9964 - val_loss: 0.0657 - val_accuracy: 0.9933\n",
            "Epoch 48/200\n",
            "1875/1875 [==============================] - 7s 4ms/step - loss: 0.0126 - accuracy: 0.9973 - val_loss: 0.0621 - val_accuracy: 0.9927\n",
            "Epoch 49/200\n",
            "1875/1875 [==============================] - 7s 4ms/step - loss: 0.0114 - accuracy: 0.9972 - val_loss: 0.0690 - val_accuracy: 0.9921\n",
            "Epoch 50/200\n",
            "1875/1875 [==============================] - 7s 4ms/step - loss: 0.0135 - accuracy: 0.9966 - val_loss: 0.0784 - val_accuracy: 0.9930\n",
            "Epoch 51/200\n",
            "1875/1875 [==============================] - 7s 4ms/step - loss: 0.0141 - accuracy: 0.9969 - val_loss: 0.0508 - val_accuracy: 0.9941\n",
            "Epoch 52/200\n",
            "1875/1875 [==============================] - 7s 4ms/step - loss: 0.0121 - accuracy: 0.9972 - val_loss: 0.0560 - val_accuracy: 0.9935\n",
            "Epoch 53/200\n",
            "1875/1875 [==============================] - 7s 4ms/step - loss: 0.0125 - accuracy: 0.9970 - val_loss: 0.0671 - val_accuracy: 0.9938\n",
            "Epoch 54/200\n",
            "1875/1875 [==============================] - 7s 4ms/step - loss: 0.0117 - accuracy: 0.9973 - val_loss: 0.0643 - val_accuracy: 0.9934\n",
            "Epoch 55/200\n",
            "1875/1875 [==============================] - 7s 4ms/step - loss: 0.0113 - accuracy: 0.9976 - val_loss: 0.0990 - val_accuracy: 0.9920\n",
            "Epoch 56/200\n",
            "1875/1875 [==============================] - 7s 4ms/step - loss: 0.0135 - accuracy: 0.9971 - val_loss: 0.0756 - val_accuracy: 0.9914\n",
            "Epoch 57/200\n",
            "1875/1875 [==============================] - 7s 4ms/step - loss: 0.0093 - accuracy: 0.9979 - val_loss: 0.0869 - val_accuracy: 0.9921\n",
            "Epoch 58/200\n",
            "1875/1875 [==============================] - 7s 4ms/step - loss: 0.0121 - accuracy: 0.9972 - val_loss: 0.0602 - val_accuracy: 0.9927\n",
            "Epoch 59/200\n",
            "1875/1875 [==============================] - 7s 4ms/step - loss: 0.0117 - accuracy: 0.9973 - val_loss: 0.0969 - val_accuracy: 0.9932\n",
            "Epoch 60/200\n",
            "1875/1875 [==============================] - 7s 4ms/step - loss: 0.0132 - accuracy: 0.9973 - val_loss: 0.0409 - val_accuracy: 0.9930\n",
            "Epoch 61/200\n",
            "1875/1875 [==============================] - 7s 4ms/step - loss: 0.0130 - accuracy: 0.9969 - val_loss: 0.0542 - val_accuracy: 0.9929\n",
            "Epoch 62/200\n",
            "1875/1875 [==============================] - 7s 4ms/step - loss: 0.0114 - accuracy: 0.9974 - val_loss: 0.0556 - val_accuracy: 0.9922\n",
            "Epoch 63/200\n",
            "1875/1875 [==============================] - 7s 4ms/step - loss: 0.0103 - accuracy: 0.9974 - val_loss: 0.0682 - val_accuracy: 0.9937\n",
            "Epoch 64/200\n",
            "1875/1875 [==============================] - 7s 4ms/step - loss: 0.0125 - accuracy: 0.9968 - val_loss: 0.0669 - val_accuracy: 0.9936\n",
            "Epoch 65/200\n",
            "1875/1875 [==============================] - 7s 4ms/step - loss: 0.0136 - accuracy: 0.9968 - val_loss: 0.0570 - val_accuracy: 0.9933\n",
            "Epoch 66/200\n",
            "1875/1875 [==============================] - 7s 4ms/step - loss: 0.0138 - accuracy: 0.9968 - val_loss: 0.0863 - val_accuracy: 0.9917\n",
            "Epoch 67/200\n",
            "1875/1875 [==============================] - 7s 4ms/step - loss: 0.0120 - accuracy: 0.9971 - val_loss: 0.0730 - val_accuracy: 0.9941\n",
            "Epoch 68/200\n",
            "1875/1875 [==============================] - 7s 4ms/step - loss: 0.0136 - accuracy: 0.9971 - val_loss: 0.0582 - val_accuracy: 0.9930\n",
            "Epoch 69/200\n",
            "1875/1875 [==============================] - 7s 4ms/step - loss: 0.0119 - accuracy: 0.9970 - val_loss: 0.1012 - val_accuracy: 0.9929\n",
            "Epoch 70/200\n",
            "1875/1875 [==============================] - 7s 4ms/step - loss: 0.0102 - accuracy: 0.9974 - val_loss: 0.0742 - val_accuracy: 0.9934\n",
            "Epoch 71/200\n",
            "1875/1875 [==============================] - 7s 4ms/step - loss: 0.0133 - accuracy: 0.9971 - val_loss: 0.0840 - val_accuracy: 0.9934\n",
            "Epoch 72/200\n",
            "1875/1875 [==============================] - 7s 4ms/step - loss: 0.0146 - accuracy: 0.9966 - val_loss: 0.0807 - val_accuracy: 0.9933\n",
            "Epoch 73/200\n",
            "1875/1875 [==============================] - 7s 4ms/step - loss: 0.0117 - accuracy: 0.9977 - val_loss: 0.0655 - val_accuracy: 0.9942\n",
            "Epoch 74/200\n",
            "1875/1875 [==============================] - 7s 4ms/step - loss: 0.0134 - accuracy: 0.9968 - val_loss: 0.0478 - val_accuracy: 0.9938\n",
            "Epoch 75/200\n",
            "1875/1875 [==============================] - 7s 4ms/step - loss: 0.0122 - accuracy: 0.9971 - val_loss: 0.0455 - val_accuracy: 0.9932\n",
            "Epoch 76/200\n",
            "1875/1875 [==============================] - 7s 4ms/step - loss: 0.0136 - accuracy: 0.9969 - val_loss: 0.0724 - val_accuracy: 0.9930\n",
            "Epoch 77/200\n",
            "1875/1875 [==============================] - 7s 4ms/step - loss: 0.0141 - accuracy: 0.9965 - val_loss: 0.0574 - val_accuracy: 0.9937\n",
            "Epoch 78/200\n",
            "1875/1875 [==============================] - 7s 4ms/step - loss: 0.0122 - accuracy: 0.9970 - val_loss: 0.0513 - val_accuracy: 0.9934\n",
            "Epoch 79/200\n",
            "1875/1875 [==============================] - 7s 4ms/step - loss: 0.0154 - accuracy: 0.9967 - val_loss: 0.0677 - val_accuracy: 0.9929\n",
            "Epoch 80/200\n",
            "1875/1875 [==============================] - 7s 4ms/step - loss: 0.0101 - accuracy: 0.9974 - val_loss: 0.0510 - val_accuracy: 0.9936\n",
            "Epoch 81/200\n",
            "1875/1875 [==============================] - 7s 4ms/step - loss: 0.0124 - accuracy: 0.9974 - val_loss: 0.0686 - val_accuracy: 0.9935\n",
            "Epoch 82/200\n",
            "1875/1875 [==============================] - 7s 4ms/step - loss: 0.0139 - accuracy: 0.9969 - val_loss: 0.0764 - val_accuracy: 0.9927\n",
            "Epoch 83/200\n",
            "1875/1875 [==============================] - 7s 4ms/step - loss: 0.0131 - accuracy: 0.9969 - val_loss: 0.0472 - val_accuracy: 0.9928\n",
            "Epoch 84/200\n",
            "1875/1875 [==============================] - 7s 4ms/step - loss: 0.0131 - accuracy: 0.9970 - val_loss: 0.0958 - val_accuracy: 0.9926\n",
            "Epoch 85/200\n",
            "1875/1875 [==============================] - 7s 4ms/step - loss: 0.0152 - accuracy: 0.9970 - val_loss: 0.0581 - val_accuracy: 0.9929\n",
            "Epoch 86/200\n",
            "1875/1875 [==============================] - 7s 4ms/step - loss: 0.0131 - accuracy: 0.9969 - val_loss: 0.0558 - val_accuracy: 0.9934\n",
            "Epoch 87/200\n",
            "1875/1875 [==============================] - 7s 4ms/step - loss: 0.0178 - accuracy: 0.9964 - val_loss: 0.0716 - val_accuracy: 0.9935\n",
            "Epoch 88/200\n",
            "1875/1875 [==============================] - 7s 4ms/step - loss: 0.0117 - accuracy: 0.9973 - val_loss: 0.0825 - val_accuracy: 0.9934\n",
            "Epoch 89/200\n",
            "1875/1875 [==============================] - 7s 4ms/step - loss: 0.0135 - accuracy: 0.9971 - val_loss: 0.0660 - val_accuracy: 0.9931\n",
            "Epoch 90/200\n",
            "1875/1875 [==============================] - 7s 4ms/step - loss: 0.0122 - accuracy: 0.9974 - val_loss: 0.0736 - val_accuracy: 0.9927\n",
            "Epoch 91/200\n",
            "1875/1875 [==============================] - 7s 4ms/step - loss: 0.0131 - accuracy: 0.9973 - val_loss: 0.0614 - val_accuracy: 0.9928\n",
            "Epoch 92/200\n",
            "1875/1875 [==============================] - 7s 4ms/step - loss: 0.0147 - accuracy: 0.9967 - val_loss: 0.0703 - val_accuracy: 0.9924\n",
            "Epoch 93/200\n",
            "1875/1875 [==============================] - 7s 4ms/step - loss: 0.0127 - accuracy: 0.9969 - val_loss: 0.0608 - val_accuracy: 0.9942\n",
            "Epoch 94/200\n",
            "1875/1875 [==============================] - 7s 4ms/step - loss: 0.0161 - accuracy: 0.9969 - val_loss: 0.0545 - val_accuracy: 0.9931\n",
            "Epoch 95/200\n",
            "1875/1875 [==============================] - 7s 4ms/step - loss: 0.0137 - accuracy: 0.9969 - val_loss: 0.0600 - val_accuracy: 0.9927\n",
            "Epoch 96/200\n",
            "1875/1875 [==============================] - 7s 4ms/step - loss: 0.0136 - accuracy: 0.9970 - val_loss: 0.0682 - val_accuracy: 0.9927\n",
            "Epoch 97/200\n",
            "1875/1875 [==============================] - 7s 4ms/step - loss: 0.0141 - accuracy: 0.9967 - val_loss: 0.0842 - val_accuracy: 0.9925\n",
            "Epoch 98/200\n",
            "1875/1875 [==============================] - 7s 4ms/step - loss: 0.0142 - accuracy: 0.9970 - val_loss: 0.0881 - val_accuracy: 0.9921\n",
            "Epoch 99/200\n",
            "1875/1875 [==============================] - 7s 4ms/step - loss: 0.0133 - accuracy: 0.9971 - val_loss: 0.0691 - val_accuracy: 0.9928\n",
            "Epoch 100/200\n",
            "1875/1875 [==============================] - 7s 4ms/step - loss: 0.0133 - accuracy: 0.9971 - val_loss: 0.0594 - val_accuracy: 0.9919\n",
            "Epoch 101/200\n",
            "1875/1875 [==============================] - 7s 4ms/step - loss: 0.0168 - accuracy: 0.9966 - val_loss: 0.0580 - val_accuracy: 0.9926\n",
            "Epoch 102/200\n",
            "1875/1875 [==============================] - 7s 4ms/step - loss: 0.0132 - accuracy: 0.9968 - val_loss: 0.0647 - val_accuracy: 0.9921\n",
            "Epoch 103/200\n",
            "1875/1875 [==============================] - 7s 4ms/step - loss: 0.0133 - accuracy: 0.9968 - val_loss: 0.0600 - val_accuracy: 0.9922\n",
            "Epoch 104/200\n",
            "1875/1875 [==============================] - 7s 4ms/step - loss: 0.0124 - accuracy: 0.9973 - val_loss: 0.0482 - val_accuracy: 0.9931\n",
            "Epoch 105/200\n",
            "1875/1875 [==============================] - 7s 4ms/step - loss: 0.0136 - accuracy: 0.9969 - val_loss: 0.0503 - val_accuracy: 0.9911\n",
            "Epoch 106/200\n",
            "1875/1875 [==============================] - 7s 4ms/step - loss: 0.0126 - accuracy: 0.9968 - val_loss: 0.0847 - val_accuracy: 0.9930\n",
            "Epoch 107/200\n",
            "1875/1875 [==============================] - 7s 4ms/step - loss: 0.0129 - accuracy: 0.9972 - val_loss: 0.0744 - val_accuracy: 0.9934\n",
            "Epoch 108/200\n",
            "1875/1875 [==============================] - 7s 4ms/step - loss: 0.0158 - accuracy: 0.9970 - val_loss: 0.0698 - val_accuracy: 0.9926\n",
            "Epoch 109/200\n",
            "1875/1875 [==============================] - 7s 4ms/step - loss: 0.0137 - accuracy: 0.9967 - val_loss: 0.0579 - val_accuracy: 0.9928\n",
            "Epoch 110/200\n",
            "1875/1875 [==============================] - 7s 4ms/step - loss: 0.0172 - accuracy: 0.9966 - val_loss: 0.0661 - val_accuracy: 0.9930\n",
            "Epoch 111/200\n",
            "1875/1875 [==============================] - 7s 4ms/step - loss: 0.0128 - accuracy: 0.9969 - val_loss: 0.0707 - val_accuracy: 0.9925\n",
            "Epoch 112/200\n",
            "1875/1875 [==============================] - 7s 4ms/step - loss: 0.0140 - accuracy: 0.9969 - val_loss: 0.0784 - val_accuracy: 0.9927\n",
            "Epoch 113/200\n",
            "1875/1875 [==============================] - 7s 4ms/step - loss: 0.0141 - accuracy: 0.9968 - val_loss: 0.0641 - val_accuracy: 0.9926\n",
            "Epoch 114/200\n",
            "1875/1875 [==============================] - 7s 4ms/step - loss: 0.0130 - accuracy: 0.9970 - val_loss: 0.0639 - val_accuracy: 0.9937\n",
            "Epoch 115/200\n",
            "1875/1875 [==============================] - 7s 4ms/step - loss: 0.0168 - accuracy: 0.9966 - val_loss: 0.0560 - val_accuracy: 0.9914\n",
            "Epoch 116/200\n",
            "1875/1875 [==============================] - 7s 4ms/step - loss: 0.0126 - accuracy: 0.9976 - val_loss: 0.0629 - val_accuracy: 0.9925\n",
            "Epoch 117/200\n",
            "1875/1875 [==============================] - 7s 4ms/step - loss: 0.0145 - accuracy: 0.9968 - val_loss: 0.0643 - val_accuracy: 0.9922\n",
            "Epoch 118/200\n",
            "1875/1875 [==============================] - 7s 4ms/step - loss: 0.0125 - accuracy: 0.9974 - val_loss: 0.0727 - val_accuracy: 0.9928\n",
            "Epoch 119/200\n",
            "1875/1875 [==============================] - 7s 4ms/step - loss: 0.0144 - accuracy: 0.9966 - val_loss: 0.0665 - val_accuracy: 0.9923\n",
            "Epoch 120/200\n",
            "1875/1875 [==============================] - 7s 4ms/step - loss: 0.0134 - accuracy: 0.9969 - val_loss: 0.0428 - val_accuracy: 0.9935\n",
            "Epoch 121/200\n",
            "1875/1875 [==============================] - 7s 4ms/step - loss: 0.0142 - accuracy: 0.9971 - val_loss: 0.0598 - val_accuracy: 0.9932\n",
            "Epoch 122/200\n",
            "1875/1875 [==============================] - 7s 4ms/step - loss: 0.0143 - accuracy: 0.9971 - val_loss: 0.0957 - val_accuracy: 0.9928\n",
            "Epoch 123/200\n",
            "1875/1875 [==============================] - 7s 4ms/step - loss: 0.0145 - accuracy: 0.9966 - val_loss: 0.0669 - val_accuracy: 0.9922\n",
            "Epoch 124/200\n",
            "1875/1875 [==============================] - 7s 4ms/step - loss: 0.0114 - accuracy: 0.9973 - val_loss: 0.0569 - val_accuracy: 0.9928\n",
            "Epoch 125/200\n",
            "1875/1875 [==============================] - 7s 4ms/step - loss: 0.0116 - accuracy: 0.9971 - val_loss: 0.0589 - val_accuracy: 0.9930\n",
            "Epoch 126/200\n",
            "1875/1875 [==============================] - 7s 4ms/step - loss: 0.0168 - accuracy: 0.9962 - val_loss: 0.0620 - val_accuracy: 0.9931\n",
            "Epoch 127/200\n",
            "1875/1875 [==============================] - 7s 4ms/step - loss: 0.0149 - accuracy: 0.9964 - val_loss: 0.0609 - val_accuracy: 0.9927\n",
            "Epoch 128/200\n",
            "1875/1875 [==============================] - 7s 4ms/step - loss: 0.0129 - accuracy: 0.9969 - val_loss: 0.0676 - val_accuracy: 0.9934\n",
            "Epoch 129/200\n",
            "1875/1875 [==============================] - 7s 4ms/step - loss: 0.0135 - accuracy: 0.9969 - val_loss: 0.0661 - val_accuracy: 0.9935\n",
            "Epoch 130/200\n",
            "1875/1875 [==============================] - 7s 4ms/step - loss: 0.0166 - accuracy: 0.9963 - val_loss: 0.0755 - val_accuracy: 0.9925\n",
            "Epoch 131/200\n",
            "1875/1875 [==============================] - 7s 4ms/step - loss: 0.0154 - accuracy: 0.9966 - val_loss: 0.0726 - val_accuracy: 0.9927\n",
            "Epoch 132/200\n",
            "1875/1875 [==============================] - 7s 4ms/step - loss: 0.0144 - accuracy: 0.9966 - val_loss: 0.0804 - val_accuracy: 0.9929\n",
            "Epoch 133/200\n",
            "1875/1875 [==============================] - 7s 4ms/step - loss: 0.0151 - accuracy: 0.9970 - val_loss: 0.0522 - val_accuracy: 0.9931\n",
            "Epoch 134/200\n",
            "1875/1875 [==============================] - 7s 4ms/step - loss: 0.0135 - accuracy: 0.9968 - val_loss: 0.0597 - val_accuracy: 0.9927\n",
            "Epoch 135/200\n",
            "1875/1875 [==============================] - 7s 4ms/step - loss: 0.0120 - accuracy: 0.9970 - val_loss: 0.0697 - val_accuracy: 0.9930\n",
            "Epoch 136/200\n",
            "1875/1875 [==============================] - 7s 4ms/step - loss: 0.0140 - accuracy: 0.9969 - val_loss: 0.0642 - val_accuracy: 0.9926\n",
            "Epoch 137/200\n",
            "1875/1875 [==============================] - 7s 4ms/step - loss: 0.0143 - accuracy: 0.9967 - val_loss: 0.0410 - val_accuracy: 0.9935\n",
            "Epoch 138/200\n",
            "1875/1875 [==============================] - 7s 4ms/step - loss: 0.0128 - accuracy: 0.9970 - val_loss: 0.0721 - val_accuracy: 0.9916\n",
            "Epoch 139/200\n",
            "1875/1875 [==============================] - 7s 4ms/step - loss: 0.0158 - accuracy: 0.9969 - val_loss: 0.0553 - val_accuracy: 0.9926\n",
            "Epoch 140/200\n",
            "1875/1875 [==============================] - 7s 4ms/step - loss: 0.0132 - accuracy: 0.9966 - val_loss: 0.0567 - val_accuracy: 0.9927\n",
            "Epoch 141/200\n",
            "1875/1875 [==============================] - 7s 4ms/step - loss: 0.0163 - accuracy: 0.9963 - val_loss: 0.0720 - val_accuracy: 0.9926\n",
            "Epoch 142/200\n",
            "1875/1875 [==============================] - 7s 4ms/step - loss: 0.0148 - accuracy: 0.9973 - val_loss: 0.0502 - val_accuracy: 0.9938\n",
            "Epoch 143/200\n",
            "1875/1875 [==============================] - 7s 4ms/step - loss: 0.0160 - accuracy: 0.9967 - val_loss: 0.0639 - val_accuracy: 0.9939\n",
            "Epoch 144/200\n",
            "1875/1875 [==============================] - 7s 4ms/step - loss: 0.0127 - accuracy: 0.9968 - val_loss: 0.0778 - val_accuracy: 0.9930\n",
            "Epoch 145/200\n",
            "1875/1875 [==============================] - 7s 4ms/step - loss: 0.0133 - accuracy: 0.9970 - val_loss: 0.0785 - val_accuracy: 0.9926\n",
            "Epoch 146/200\n",
            "1875/1875 [==============================] - 7s 4ms/step - loss: 0.0136 - accuracy: 0.9969 - val_loss: 0.0633 - val_accuracy: 0.9931\n",
            "Epoch 147/200\n",
            "1875/1875 [==============================] - 7s 4ms/step - loss: 0.0141 - accuracy: 0.9968 - val_loss: 0.0654 - val_accuracy: 0.9926\n",
            "Epoch 148/200\n",
            "1875/1875 [==============================] - 7s 4ms/step - loss: 0.0133 - accuracy: 0.9970 - val_loss: 0.0473 - val_accuracy: 0.9919\n",
            "Epoch 149/200\n",
            "1875/1875 [==============================] - 7s 4ms/step - loss: 0.0145 - accuracy: 0.9970 - val_loss: 0.0599 - val_accuracy: 0.9933\n",
            "Epoch 150/200\n",
            "1875/1875 [==============================] - 7s 4ms/step - loss: 0.0173 - accuracy: 0.9964 - val_loss: 0.0570 - val_accuracy: 0.9922\n",
            "Epoch 151/200\n",
            "1875/1875 [==============================] - 7s 4ms/step - loss: 0.0119 - accuracy: 0.9971 - val_loss: 0.0956 - val_accuracy: 0.9920\n",
            "Epoch 152/200\n",
            "1875/1875 [==============================] - 7s 4ms/step - loss: 0.0141 - accuracy: 0.9966 - val_loss: 0.0550 - val_accuracy: 0.9929\n",
            "Epoch 153/200\n",
            "1875/1875 [==============================] - 7s 4ms/step - loss: 0.0127 - accuracy: 0.9971 - val_loss: 0.0717 - val_accuracy: 0.9922\n",
            "Epoch 154/200\n",
            "1875/1875 [==============================] - 7s 4ms/step - loss: 0.0135 - accuracy: 0.9970 - val_loss: 0.0539 - val_accuracy: 0.9930\n",
            "Epoch 155/200\n",
            "1875/1875 [==============================] - 7s 4ms/step - loss: 0.0131 - accuracy: 0.9966 - val_loss: 0.0593 - val_accuracy: 0.9932\n",
            "Epoch 156/200\n",
            "1875/1875 [==============================] - 7s 4ms/step - loss: 0.0123 - accuracy: 0.9971 - val_loss: 0.0669 - val_accuracy: 0.9935\n",
            "Epoch 157/200\n",
            "1875/1875 [==============================] - 7s 4ms/step - loss: 0.0171 - accuracy: 0.9966 - val_loss: 0.0852 - val_accuracy: 0.9934\n",
            "Epoch 158/200\n",
            "1875/1875 [==============================] - 7s 4ms/step - loss: 0.0105 - accuracy: 0.9973 - val_loss: 0.0696 - val_accuracy: 0.9928\n",
            "Epoch 159/200\n",
            "1875/1875 [==============================] - 7s 4ms/step - loss: 0.0139 - accuracy: 0.9973 - val_loss: 0.0731 - val_accuracy: 0.9931\n",
            "Epoch 160/200\n",
            "1875/1875 [==============================] - 7s 4ms/step - loss: 0.0151 - accuracy: 0.9963 - val_loss: 0.0715 - val_accuracy: 0.9934\n",
            "Epoch 161/200\n",
            "1875/1875 [==============================] - 7s 4ms/step - loss: 0.0123 - accuracy: 0.9972 - val_loss: 0.0872 - val_accuracy: 0.9922\n",
            "Epoch 162/200\n",
            "1875/1875 [==============================] - 7s 4ms/step - loss: 0.0146 - accuracy: 0.9967 - val_loss: 0.0489 - val_accuracy: 0.9925\n",
            "Epoch 163/200\n",
            "1875/1875 [==============================] - 7s 4ms/step - loss: 0.0115 - accuracy: 0.9972 - val_loss: 0.0625 - val_accuracy: 0.9928\n",
            "Epoch 164/200\n",
            "1875/1875 [==============================] - 7s 4ms/step - loss: 0.0131 - accuracy: 0.9972 - val_loss: 0.0525 - val_accuracy: 0.9931\n",
            "Epoch 165/200\n",
            "1875/1875 [==============================] - 7s 4ms/step - loss: 0.0142 - accuracy: 0.9965 - val_loss: 0.0738 - val_accuracy: 0.9935\n",
            "Epoch 166/200\n",
            "1875/1875 [==============================] - 7s 4ms/step - loss: 0.0158 - accuracy: 0.9965 - val_loss: 0.0627 - val_accuracy: 0.9930\n",
            "Epoch 167/200\n",
            "1875/1875 [==============================] - 7s 4ms/step - loss: 0.0185 - accuracy: 0.9965 - val_loss: 0.0639 - val_accuracy: 0.9923\n",
            "Epoch 168/200\n",
            "1875/1875 [==============================] - 7s 4ms/step - loss: 0.0124 - accuracy: 0.9973 - val_loss: 0.0578 - val_accuracy: 0.9930\n",
            "Epoch 169/200\n",
            "1875/1875 [==============================] - 7s 4ms/step - loss: 0.0101 - accuracy: 0.9974 - val_loss: 0.0688 - val_accuracy: 0.9926\n",
            "Epoch 170/200\n",
            "1875/1875 [==============================] - 7s 4ms/step - loss: 0.0179 - accuracy: 0.9960 - val_loss: 0.0680 - val_accuracy: 0.9915\n",
            "Epoch 171/200\n",
            "1875/1875 [==============================] - 7s 4ms/step - loss: 0.0146 - accuracy: 0.9969 - val_loss: 0.0691 - val_accuracy: 0.9928\n",
            "Epoch 172/200\n",
            "1875/1875 [==============================] - 7s 4ms/step - loss: 0.0114 - accuracy: 0.9972 - val_loss: 0.0823 - val_accuracy: 0.9930\n",
            "Epoch 173/200\n",
            "1875/1875 [==============================] - 7s 4ms/step - loss: 0.0168 - accuracy: 0.9961 - val_loss: 0.0966 - val_accuracy: 0.9931\n",
            "Epoch 174/200\n",
            "1875/1875 [==============================] - 7s 4ms/step - loss: 0.0141 - accuracy: 0.9969 - val_loss: 0.0693 - val_accuracy: 0.9929\n",
            "Epoch 175/200\n",
            "1875/1875 [==============================] - 7s 4ms/step - loss: 0.0141 - accuracy: 0.9966 - val_loss: 0.0735 - val_accuracy: 0.9931\n",
            "Epoch 176/200\n",
            "1875/1875 [==============================] - 7s 4ms/step - loss: 0.0125 - accuracy: 0.9972 - val_loss: 0.1003 - val_accuracy: 0.9924\n",
            "Epoch 177/200\n",
            "1875/1875 [==============================] - 7s 4ms/step - loss: 0.0167 - accuracy: 0.9964 - val_loss: 0.0547 - val_accuracy: 0.9926\n",
            "Epoch 178/200\n",
            "1875/1875 [==============================] - 7s 4ms/step - loss: 0.0198 - accuracy: 0.9966 - val_loss: 0.0720 - val_accuracy: 0.9927\n",
            "Epoch 179/200\n",
            "1875/1875 [==============================] - 7s 4ms/step - loss: 0.0134 - accuracy: 0.9971 - val_loss: 0.0546 - val_accuracy: 0.9935\n",
            "Epoch 180/200\n",
            "1875/1875 [==============================] - 7s 4ms/step - loss: 0.0113 - accuracy: 0.9969 - val_loss: 0.0512 - val_accuracy: 0.9924\n",
            "Epoch 181/200\n",
            "1875/1875 [==============================] - 7s 4ms/step - loss: 0.0154 - accuracy: 0.9968 - val_loss: 0.0639 - val_accuracy: 0.9926\n",
            "Epoch 182/200\n",
            "1875/1875 [==============================] - 7s 4ms/step - loss: 0.0140 - accuracy: 0.9971 - val_loss: 0.0562 - val_accuracy: 0.9921\n",
            "Epoch 183/200\n",
            "1875/1875 [==============================] - 7s 4ms/step - loss: 0.0131 - accuracy: 0.9971 - val_loss: 0.0693 - val_accuracy: 0.9934\n",
            "Epoch 184/200\n",
            "1875/1875 [==============================] - 7s 4ms/step - loss: 0.0135 - accuracy: 0.9967 - val_loss: 0.0762 - val_accuracy: 0.9931\n",
            "Epoch 185/200\n",
            "1875/1875 [==============================] - 7s 4ms/step - loss: 0.0135 - accuracy: 0.9967 - val_loss: 0.0871 - val_accuracy: 0.9934\n",
            "Epoch 186/200\n",
            "1875/1875 [==============================] - 7s 4ms/step - loss: 0.0130 - accuracy: 0.9970 - val_loss: 0.0694 - val_accuracy: 0.9939\n",
            "Epoch 187/200\n",
            "1875/1875 [==============================] - 7s 4ms/step - loss: 0.0156 - accuracy: 0.9963 - val_loss: 0.0648 - val_accuracy: 0.9926\n",
            "Epoch 188/200\n",
            "1875/1875 [==============================] - 7s 4ms/step - loss: 0.0156 - accuracy: 0.9962 - val_loss: 0.0556 - val_accuracy: 0.9928\n",
            "Epoch 189/200\n",
            "1875/1875 [==============================] - 7s 4ms/step - loss: 0.0170 - accuracy: 0.9964 - val_loss: 0.0822 - val_accuracy: 0.9941\n",
            "Epoch 190/200\n",
            "1875/1875 [==============================] - 7s 4ms/step - loss: 0.0127 - accuracy: 0.9971 - val_loss: 0.0689 - val_accuracy: 0.9929\n",
            "Epoch 191/200\n",
            "1875/1875 [==============================] - 7s 4ms/step - loss: 0.0162 - accuracy: 0.9967 - val_loss: 0.0781 - val_accuracy: 0.9933\n",
            "Epoch 192/200\n",
            "1875/1875 [==============================] - 7s 4ms/step - loss: 0.0142 - accuracy: 0.9968 - val_loss: 0.0781 - val_accuracy: 0.9925\n",
            "Epoch 193/200\n",
            "1875/1875 [==============================] - 7s 4ms/step - loss: 0.0208 - accuracy: 0.9956 - val_loss: 0.1054 - val_accuracy: 0.9918\n",
            "Epoch 194/200\n",
            "1875/1875 [==============================] - 7s 4ms/step - loss: 0.0159 - accuracy: 0.9965 - val_loss: 0.0744 - val_accuracy: 0.9926\n",
            "Epoch 195/200\n",
            "1875/1875 [==============================] - 7s 4ms/step - loss: 0.0156 - accuracy: 0.9966 - val_loss: 0.1071 - val_accuracy: 0.9922\n",
            "Epoch 196/200\n",
            "1875/1875 [==============================] - 7s 4ms/step - loss: 0.0161 - accuracy: 0.9963 - val_loss: 0.0683 - val_accuracy: 0.9929\n",
            "Epoch 197/200\n",
            "1875/1875 [==============================] - 7s 4ms/step - loss: 0.0144 - accuracy: 0.9969 - val_loss: 0.0811 - val_accuracy: 0.9935\n",
            "Epoch 198/200\n",
            "1875/1875 [==============================] - 7s 4ms/step - loss: 0.0124 - accuracy: 0.9968 - val_loss: 0.0872 - val_accuracy: 0.9931\n",
            "Epoch 199/200\n",
            "1875/1875 [==============================] - 7s 4ms/step - loss: 0.0169 - accuracy: 0.9964 - val_loss: 0.0555 - val_accuracy: 0.9915\n",
            "Epoch 200/200\n",
            "1875/1875 [==============================] - 7s 4ms/step - loss: 0.0129 - accuracy: 0.9969 - val_loss: 0.0538 - val_accuracy: 0.9931\n"
          ],
          "name": "stdout"
        }
      ]
    },
    {
      "cell_type": "markdown",
      "metadata": {
        "id": "GjdU-pLkxo0G"
      },
      "source": [
        "**7. Etape7 : Évaluer le modèle sur les données de test**"
      ]
    },
    {
      "cell_type": "code",
      "metadata": {
        "colab": {
          "base_uri": "https://localhost:8080/"
        },
        "id": "n3syz7s2xMk-",
        "outputId": "3b61682e-cddc-4ea8-d467-547f29dc7699"
      },
      "source": [
        "score = model.evaluate(X_test, Y_test, verbose=1)"
      ],
      "execution_count": null,
      "outputs": [
        {
          "output_type": "stream",
          "text": [
            "313/313 [==============================] - 1s 3ms/step - loss: 0.0538 - accuracy: 0.9931\n"
          ],
          "name": "stdout"
        }
      ]
    },
    {
      "cell_type": "code",
      "metadata": {
        "colab": {
          "base_uri": "https://localhost:8080/"
        },
        "id": "Egc1R44dxxNN",
        "outputId": "2fe9d845-e2ea-416f-c391-9d8e3c4f6a62"
      },
      "source": [
        "print(score)"
      ],
      "execution_count": null,
      "outputs": [
        {
          "output_type": "stream",
          "text": [
            "[0.05380696430802345, 0.9930999875068665]\n"
          ],
          "name": "stdout"
        }
      ]
    },
    {
      "cell_type": "code",
      "metadata": {
        "colab": {
          "base_uri": "https://localhost:8080/",
          "height": 282
        },
        "id": "oGeHl_dczF1a",
        "outputId": "9bebaf57-9db2-41c6-ba34-9f8db1ca37d9"
      },
      "source": [
        "plt.plot(range(1,201),history.history[\"accuracy\"],c='blue')\n",
        "plt.plot(range(1,201),history.history[\"val_accuracy\"],c='red')\n",
        "#plt.ylim(0.5,1)"
      ],
      "execution_count": null,
      "outputs": [
        {
          "output_type": "execute_result",
          "data": {
            "text/plain": [
              "[<matplotlib.lines.Line2D at 0x7fe5085bdf60>]"
            ]
          },
          "metadata": {
            "tags": []
          },
          "execution_count": 68
        },
        {
          "output_type": "display_data",
          "data": {
            "image/png": "[encoded data removed]",
            "text/plain": [
              "<Figure size 432x288 with 1 Axes>"
            ]
          },
          "metadata": {
            "tags": [],
            "needs_background": "light"
          }
        }
      ]
    },
    {
      "cell_type": "code",
      "metadata": {
        "colab": {
          "base_uri": "https://localhost:8080/",
          "height": 282
        },
        "id": "VpCcozlG5pEi",
        "outputId": "d8c67ee2-46f5-41e2-dfbb-78ceccf3593d"
      },
      "source": [
        "plt.plot(range(1,201),history.history[\"loss\"],c='blue')\n",
        "plt.plot(range(1,201),history.history[\"val_loss\"],c='red')"
      ],
      "execution_count": null,
      "outputs": [
        {
          "output_type": "execute_result",
          "data": {
            "text/plain": [
              "[<matplotlib.lines.Line2D at 0x7fe5085bd128>]"
            ]
          },
          "metadata": {
            "tags": []
          },
          "execution_count": 69
        },
        {
          "output_type": "display_data",
          "data": {
            "image/png": "[encoded data removed]",
            "text/plain": [
              "<Figure size 432x288 with 1 Axes>"
            ]
          },
          "metadata": {
            "tags": [],
            "needs_background": "light"
          }
        }
      ]
    },
    {
      "cell_type": "code",
      "metadata": {
        "id": "2f49ZhGn6ula"
      },
      "source": [
        ""
      ],
      "execution_count": null,
      "outputs": []
    }
  ]
}